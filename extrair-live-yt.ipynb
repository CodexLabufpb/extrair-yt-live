{
 "cells": [
  {
   "cell_type": "code",
   "execution_count": null,
   "id": "1a089191-c3bb-4a37-a804-ee4dda0e5dc3",
   "metadata": {
    "tags": []
   },
   "outputs": [],
   "source": [
    "from googleapiclient.discovery import build\n",
    "import pandas as pd\n",
    "import time\n",
    "\n",
    "# Sua chave de API\n",
    "api_key = 'uuuuuuuuu'\n",
    "youtube = build('youtube', 'v3', developerKey=api_key)"
   ]
  },
  {
   "cell_type": "code",
   "execution_count": null,
   "id": "8d73dc9e-20b6-49b4-bb19-3555b7edb5d6",
   "metadata": {},
   "outputs": [],
   "source": [
    "def get_live_chat_id(video_id):\n",
    "    video_response = youtube.videos().list(\n",
    "        part='liveStreamingDetails',\n",
    "        id=video_id\n",
    "    ).execute()\n",
    "\n",
    "    live_chat_id = video_response['items'][0]['liveStreamingDetails'].get('activeLiveChatId')\n",
    "    if not live_chat_id:\n",
    "        raise ValueError(\"Não há live chat ativo para este vídeo.\")\n",
    "    return live_chat_id\n",
    "\n",
    "def get_chat_messages(live_chat_id, page_token=None):\n",
    "    messages = []\n",
    "    chat_request = youtube.liveChatMessages().list(\n",
    "        liveChatId=live_chat_id,\n",
    "        part='snippet,authorDetails',\n",
    "        maxResults=100,\n",
    "        pageToken=page_token\n",
    "    )\n",
    "    chat_response = chat_request.execute()\n",
    "\n",
    "    for item in chat_response['items']:\n",
    "        # Adicionando verificação para garantir que a chave 'displayMessage' está presente\n",
    "        message_text = item['snippet'].get('displayMessage', '---Mensagem não disponível---')\n",
    "        author_name = item['authorDetails']['displayName']\n",
    "        messages.append((author_name, message_text))\n",
    "    \n",
    "    next_page_token = chat_response.get('nextPageToken')\n",
    "    return messages, next_page_token\n",
    "\n",
    "# Substitua 'VIDEO_ID' pelo ID do vídeo da live\n",
    "video_id = 'uuuuuuuuuuuuuu'\n",
    "all_messages = []\n",
    "next_page_token = None\n",
    "\n",
    "try:\n",
    "    live_chat_id = get_live_chat_id(video_id)\n",
    "    print(\"Coletando mensagens do chat ao vivo...\")\n",
    "    while True:\n",
    "        if next_page_token or not all_messages:  # Nova requisição apenas se houver mais mensagens ou se for a primeira vez\n",
    "            new_messages, next_page_token = get_chat_messages(live_chat_id, next_page_token)\n",
    "            all_messages.extend(new_messages)\n",
    "            print(f\"Novas mensagens coletadas: {len(new_messages)}\")\n",
    "        \n",
    "        if not new_messages:\n",
    "            print(\"Não há novas mensagens. Aguardando novas mensagens...\")\n",
    "        \n",
    "        time.sleep(60)  # Aumentado para 20 segundos\n",
    "\n",
    "except KeyboardInterrupt:\n",
    "    print(\"Interrompido pelo usuário.\")\n",
    "finally:\n",
    "    # Salvando as mensagens em um CSV antes de encerrar o script\n",
    "    df = pd.DataFrame(all_messages, columns=['Author', 'Message'])\n",
    "    df.to_csv('youtube_live_chat_messages.csv', index=False, encoding='utf-8')\n",
    "    print(f\"Mensagens do chat ao vivo salvas com sucesso no arquivo 'youtube_live_chat_messages.csv'. Total de mensagens coletadas: {len(all_messages)}\")\n"
   ]
  }
 ],
 "metadata": {
  "kernelspec": {
   "display_name": "Python 3 (ipykernel)",
   "language": "python",
   "name": "python3"
  },
  "language_info": {
   "codemirror_mode": {
    "name": "ipython",
    "version": 3
   },
   "file_extension": ".py",
   "mimetype": "text/x-python",
   "name": "python",
   "nbconvert_exporter": "python",
   "pygments_lexer": "ipython3",
   "version": "3.11.5"
  }
 },
 "nbformat": 4,
 "nbformat_minor": 5
}
